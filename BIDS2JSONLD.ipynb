{
 "cells": [
  {
   "cell_type": "markdown",
   "metadata": {},
   "source": [
    "# BIDS dataset to a JSON-LD BIDS dataset"
   ]
  },
  {
   "cell_type": "markdown",
   "metadata": {},
   "source": [
    "This document illustrates an example showing how to go from a bids dataset to a JSON-LD BIDS dataset. More specifically, one wants to : \n",
    "- add gently context into existing json files : T1w.json, taskxxx.json\n",
    "- create an other JSON file with attached JSON-LD context to store metadata only present on the BIDS directory (bids_context.json findable at that location: https://github.com/incf-nidash/bids-ld/pull/1)"
   ]
  },
  {
   "cell_type": "markdown",
   "metadata": {},
   "source": [
    "It is a great milestone to foster the complementary of both standards with the mapping from JSON attributes in BIDS to NIDM-experiment URLs. Indeed, NIDM adds to BIDS the capability to track provenance and disambiguate experimental details and data elements. Moreover, the definition of attributes is more complete and relevant in NIDM. "
   ]
  },
  {
   "cell_type": "markdown",
   "metadata": {},
   "source": [
    "1st step : to review existing JSON files with the metadata types in BIDS and compare them to the NIDM-Experiment data. \n",
    "--> we list the bids attributes, the path to bids terms, the nidm attributes and their links to nidm objects. \n",
    "\n",
    "2st step : we create a context file only for bids terms labelled 'bids_context.json'.\n",
    "--> At this time there is still no URIs for BIDS, so one must create one with the following prefix: \n",
    "    \"bids\": \"https://bids.neuroimaging.io#\"\n",
    "    Then to describe bids attributes : \n",
    "    \"Name\" : \"https://bids.neuroimaging.io#Name\""
   ]
  },
  {
   "cell_type": "code",
   "execution_count": null,
   "metadata": {},
   "outputs": [],
   "source": []
  }
 ],
 "metadata": {
  "kernelspec": {
   "display_name": "Python 3",
   "language": "python",
   "name": "python3"
  },
  "language_info": {
   "codemirror_mode": {
    "name": "ipython",
    "version": 3
   },
   "file_extension": ".py",
   "mimetype": "text/x-python",
   "name": "python",
   "nbconvert_exporter": "python",
   "pygments_lexer": "ipython3",
   "version": "3.7.1"
  }
 },
 "nbformat": 4,
 "nbformat_minor": 2
}
